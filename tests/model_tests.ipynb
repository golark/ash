{
 "cells": [
  {
   "cell_type": "code",
   "execution_count": 9,
   "id": "21e384ed",
   "metadata": {},
   "outputs": [
    {
     "data": {
      "text/plain": [
       "<module 'ash' from '/Users/cjan/golark/ash/tests/../ash/__init__.py'>"
      ]
     },
     "execution_count": 9,
     "metadata": {},
     "output_type": "execute_result"
    }
   ],
   "source": [
    "import importlib\n",
    "import sys\n",
    "import requests\n",
    "import time\n",
    "import json\n",
    "import pandas as pd\n",
    "\n",
    "sys.path.append('..')\n",
    "import ash\n",
    "\n",
    "importlib.reload(ash)"
   ]
  },
  {
   "cell_type": "code",
   "execution_count": 5,
   "id": "438ce0e7",
   "metadata": {},
   "outputs": [
    {
     "name": "stdout",
     "output_type": "stream",
     "text": [
      "🤖 Loading local model: ../models/qwen2.5-coder-3b-instruct-q4_k_m.gguf\n"
     ]
    },
    {
     "name": "stderr",
     "output_type": "stream",
     "text": [
      "llama_context: n_ctx_per_seq (4096) < n_ctx_train (32768) -- the full capacity of the model will not be utilized\n",
      "ggml_metal_init: skipping kernel_get_rows_bf16                     (not supported)\n",
      "ggml_metal_init: skipping kernel_set_rows_bf16                     (not supported)\n",
      "ggml_metal_init: skipping kernel_mul_mv_bf16_f32                   (not supported)\n",
      "ggml_metal_init: skipping kernel_mul_mv_bf16_f32_c4                (not supported)\n",
      "ggml_metal_init: skipping kernel_mul_mv_bf16_f32_1row              (not supported)\n",
      "ggml_metal_init: skipping kernel_mul_mv_bf16_f32_l4                (not supported)\n",
      "ggml_metal_init: skipping kernel_mul_mv_bf16_bf16                  (not supported)\n",
      "ggml_metal_init: skipping kernel_mul_mv_id_bf16_f32                (not supported)\n",
      "ggml_metal_init: skipping kernel_mul_mm_bf16_f32                   (not supported)\n",
      "ggml_metal_init: skipping kernel_mul_mm_id_bf16_f16                (not supported)\n",
      "ggml_metal_init: skipping kernel_flash_attn_ext_bf16_h64           (not supported)\n",
      "ggml_metal_init: skipping kernel_flash_attn_ext_bf16_h80           (not supported)\n",
      "ggml_metal_init: skipping kernel_flash_attn_ext_bf16_h96           (not supported)\n",
      "ggml_metal_init: skipping kernel_flash_attn_ext_bf16_h112          (not supported)\n",
      "ggml_metal_init: skipping kernel_flash_attn_ext_bf16_h128          (not supported)\n",
      "ggml_metal_init: skipping kernel_flash_attn_ext_bf16_h192          (not supported)\n",
      "ggml_metal_init: skipping kernel_flash_attn_ext_bf16_hk192_hv128   (not supported)\n",
      "ggml_metal_init: skipping kernel_flash_attn_ext_bf16_h256          (not supported)\n",
      "ggml_metal_init: skipping kernel_flash_attn_ext_bf16_hk576_hv512   (not supported)\n",
      "ggml_metal_init: skipping kernel_flash_attn_ext_vec_bf16_h64       (not supported)\n",
      "ggml_metal_init: skipping kernel_flash_attn_ext_vec_bf16_h96       (not supported)\n",
      "ggml_metal_init: skipping kernel_flash_attn_ext_vec_bf16_h128      (not supported)\n",
      "ggml_metal_init: skipping kernel_flash_attn_ext_vec_bf16_h192      (not supported)\n",
      "ggml_metal_init: skipping kernel_flash_attn_ext_vec_bf16_hk192_hv128 (not supported)\n",
      "ggml_metal_init: skipping kernel_flash_attn_ext_vec_bf16_h256      (not supported)\n",
      "ggml_metal_init: skipping kernel_flash_attn_ext_vec_bf16_hk576_hv512 (not supported)\n",
      "ggml_metal_init: skipping kernel_cpy_f32_bf16                      (not supported)\n",
      "ggml_metal_init: skipping kernel_cpy_bf16_f32                      (not supported)\n",
      "ggml_metal_init: skipping kernel_cpy_bf16_bf16                     (not supported)\n",
      "llama_kv_cache_unified: LLAMA_SET_ROWS=0, using old ggml_cpy() method for backwards compatibility\n"
     ]
    },
    {
     "name": "stdout",
     "output_type": "stream",
     "text": [
      "✅ Local model loaded successfully in 2.16 seconds!\n"
     ]
    },
    {
     "data": {
      "text/plain": [
       "<llama_cpp.llama.Llama at 0x11ccbe3c0>"
      ]
     },
     "execution_count": 5,
     "metadata": {},
     "output_type": "execute_result"
    }
   ],
   "source": [
    "from ash.server import ASHModel\n",
    "m = ASHModel('../models/qwen2.5-coder-3b-instruct-q4_k_m.gguf')\n",
    "m.load()"
   ]
  },
  {
   "cell_type": "code",
   "execution_count": 6,
   "id": "2a32ec75",
   "metadata": {},
   "outputs": [
    {
     "data": {
      "text/plain": [
       "'rm a'"
      ]
     },
     "execution_count": 6,
     "metadata": {},
     "output_type": "execute_result"
    }
   ],
   "source": [
    "m.generate_command(\"remove file a\")"
   ]
  },
  {
   "cell_type": "code",
   "execution_count": 7,
   "id": "b324e523",
   "metadata": {},
   "outputs": [
    {
     "name": "stdout",
     "output_type": "stream",
     "text": [
      "Starting AI command generation tests...\n",
      "==================================================\n",
      "Test 1: home | ['cd ~', 'cd $HOME'] | cd ~ - 0.577s - PASS\n",
      "Test 2: go home | ['cd ~', 'cd $HOME'] | cd ~ - 1.019s - PASS\n",
      "Test 3: change directory to home | ['cd ~', 'cd $HOME'] | cd ~ - 1.680s - PASS\n",
      "Test 4: change to home directory | ['cd ~', 'cd $HOME'] | cd ~ - 0.841s - PASS\n",
      "Test 5: create a new file called a | ['touch a', '> a'] | touch a - 0.842s - PASS\n",
      "Test 6: move file a.txt to b.txt | ['mv a.txt b.txt'] | mv a.txt b.txt - 1.037s - PASS\n",
      "Test 7: move a.txt to upper directory | ['mv a.txt ..'] | mv a.txt .. - 0.778s - PASS\n",
      "Test 8: copy a to upper directory | ['cp a ..'] | mv a .. - 0.732s - FAIL\n",
      "Test 9: list files | ['ls', 'ls -l', 'ls -la'] | ls - 0.411s - PASS\n",
      "Test 10: show current directory | ['pwd'] | pwd - 0.483s - PASS\n",
      "Test 11: create directory called x | ['mkdir x'] | mkdir x - 0.702s - PASS\n",
      "Test 12: create directory called x if it doesnt exist | ['mkdir -p x'] | mkdir -p x - 0.889s - PASS\n",
      "Test 13: remove a | ['rm -rf a', 'rm a'] | rm a - 0.796s - PASS\n",
      "Test 14: remove file a | ['rm a', 'rm -f a'] | rm a - 0.534s - PASS\n",
      "Test 15: delete file a | ['rm a', 'rm -f a'] | rm a - 0.810s - PASS\n",
      "Test 16: remove directory a | ['rm -r a', 'rm -rf a', 'rmdir a'] | rm -r a - 1.016s - PASS\n",
      "Test 17: view contents of requirements.txt | ['cat requirements.txt', 'less requirements.txt', 'more requirements.txt'] | cat requirements.txt - 0.733s - PASS\n",
      "Test 18: search for aba txt in files | ['grep aba *.txt', \"grep 'aba' *.txt\"] | grep -r \"aba txt\" . - 1.197s - FAIL\n",
      "Test 19: search for aba text in files | ['grep aba *.txt', \"grep 'aba' *.txt\"] | grep -r \"aba\" . - 1.024s - FAIL\n",
      "Test 20: show disk usage | ['df -h', 'du -sh'] | df -h - 0.863s - PASS\n",
      "Test 21: show system processes | ['ps', 'ps aux', 'ps -ef'] | ps aux - 0.533s - PASS\n",
      "Test 22: monitor system resources | ['top', 'htop'] | top - 0.605s - PASS\n",
      "Test 23: ping google.co.uk | ['ping google.co.uk', 'ping -c 4 google.co.uk'] | ping google.co.uk - 0.825s - PASS\n",
      "Test 24: download file from https://box.co.uk | ['wget https://box.co.uk', 'curl https://box.co.uk', 'curl -O https://box.co.uk'] | wget https://box.co.uk - 1.434s - PASS\n",
      "Test 25: connect to 192.168.72.1 via ssh | ['ssh 192.168.72.1', 'ssh user@192.168.72.1'] | ssh 192.168.72.1 - 2.647s - PASS\n",
      "Test 26: install package | ['apt install', 'apt-get install', 'brew install'] | sudo apt-get install package_name - 0.970s - PASS\n",
      "Test 27: install python package | ['pip install', 'python -m pip install'] | pip install package_name - 0.721s - PASS\n",
      "Test 28: initialize git repository | ['git init'] | git init - 0.666s - PASS\n",
      "Test 29: add files to git | ['git add', 'git add .'] | git add . - 0.641s - PASS\n",
      "Test 30: commit changes | ['git commit -m', 'git commit'] | git commit -m \"Your commit message - 1.173s - PASS\n",
      "Test 31: push changes | ['git push', \"git add . && git commit -m 'Update' && git push\"] | git push - 0.663s - PASS\n",
      "Test 32: pull changes | ['git pull'] | git pull - 0.618s - PASS\n",
      "Test 33: show git status | ['git status'] | git status - 0.679s - PASS\n",
      "Test 34: list docker containers | ['docker ps'] | docker ps - 0.703s - PASS\n",
      "Test 35: run docker container | ['docker run'] | docker run - 0.621s - PASS\n",
      "Test 36: run python script | ['python', 'python3'] | python script.py - 0.747s - PASS\n",
      "Test 37: edit file | ['vim', 'vi', 'nano'] | nano filename - 0.543s - PASS\n",
      "Test 38: clear terminal | ['clear', 'reset'] | clear - 0.500s - PASS\n",
      "Score: 92.11% (105/114)\n",
      "\n",
      "Total points earned: 105\n",
      "Total time: 32.253 seconds\n",
      "Average time per test: 0.849 seconds\n",
      "\n",
      "Timing Summary:\n",
      "Fastest test: 0.411s\n",
      "Slowest test: 2.647s\n",
      "Average test time: 0.849s\n"
     ]
    }
   ],
   "source": [
    "total_points = 0\n",
    "earned_points = 0\n",
    "results = []\n",
    "\n",
    "print(\"Starting AI command generation tests...\")\n",
    "print(\"=\" * 50)\n",
    "\n",
    "# Load test cases from JSON file\n",
    "with open('test_cases_basic.json', 'r') as f:\n",
    "    test_data = json.load(f)\n",
    "    test_cases = test_data['tests']\n",
    "\n",
    "# Initialize results list\n",
    "results = []\n",
    "\n",
    "# Test each case\n",
    "for i, test_case in enumerate(test_cases, 1):\n",
    "    query = test_case['query']\n",
    "    expected = test_case['expected']\n",
    "    points = test_case['points']\n",
    "    \n",
    "    total_points += points\n",
    "    \n",
    "    try:\n",
    "        # Start timer for this test case\n",
    "        start_time = time.time()\n",
    "        \n",
    "        # Call AI model\n",
    "        ai_response = m.generate_command(query)\n",
    "        \n",
    "        # End timer and calculate duration\n",
    "        end_time = time.time()\n",
    "        duration = end_time - start_time\n",
    "        \n",
    "        # Simple comparison - check if expected command is in AI response\n",
    "        # This handles cases where AI might add arguments or variations\n",
    "        if isinstance(ai_response, str):\n",
    "            ai_response = ai_response.strip('\"')\n",
    "            ai_response = ai_response.strip('\\'')\n",
    "\n",
    "        # For each expected command, check if all its tokens (split by space) are present in the ai_response, regardless of order.\n",
    "        def command_tokens_match(expected_cmd, ai_cmd):\n",
    "            # Remove extra quotes and normalize whitespace\n",
    "            expected_tokens = expected_cmd.replace('\"', '').replace(\"'\", '').split()\n",
    "            ai_tokens = ai_cmd.replace('\"', '').replace(\"'\", '').split()\n",
    "            # All expected tokens must be present in ai_response tokens (order doesn't matter)\n",
    "            return all(token in ai_tokens for token in expected_tokens)\n",
    "\n",
    "        is_correct = any(command_tokens_match(str(e), ai_response) for e in expected)\n",
    "\n",
    "        results.append({\n",
    "            'query': query,\n",
    "            'expected': expected,\n",
    "            'ai_response': ai_response,\n",
    "            'pass/fail': 'PASS' if is_correct else 'FAIL',\n",
    "            'points_earned': points if is_correct else 0,\n",
    "            'duration_seconds': round(duration, 3)\n",
    "        })\n",
    "\n",
    "        print(f\"Test {i}: {query} | {expected} | {ai_response} - {duration:.3f}s - {'PASS' if is_correct else 'FAIL'}\")\n",
    "        \n",
    "    except Exception as e:\n",
    "        print(f\"✗ ERROR: {e}\")\n",
    "        \n",
    "    # Small delay to avoid overwhelming the API\n",
    "    time.sleep(0.05)\n",
    "\n",
    "# Convert results to pandas dataframe\n",
    "results_df = pd.DataFrame(results)\n",
    "\n",
    "# Sum points earned\n",
    "points_earned = results_df['points_earned'].sum()\n",
    "score_fraction = points_earned / total_points if total_points > 0 else 0\n",
    "print(f\"Score: {score_fraction:.2%} ({points_earned}/{total_points})\")\n",
    "total_duration = results_df['duration_seconds'].sum()\n",
    "\n",
    "print(f\"\\nTotal points earned: {points_earned}\")\n",
    "print(f\"Total time: {total_duration:.3f} seconds\")\n",
    "print(f\"Average time per test: {total_duration/len(results_df):.3f} seconds\")\n",
    "print(f\"\\nTiming Summary:\")\n",
    "print(f\"Fastest test: {results_df['duration_seconds'].min():.3f}s\")\n",
    "print(f\"Slowest test: {results_df['duration_seconds'].max():.3f}s\")\n",
    "print(f\"Average test time: {results_df['duration_seconds'].mean():.3f}s\") "
   ]
  },
  {
   "cell_type": "code",
   "execution_count": 8,
   "id": "b878147d",
   "metadata": {},
   "outputs": [
    {
     "name": "stdout",
     "output_type": "stream",
     "text": [
      "\n",
      "Failed Tests:\n",
      "                       query                           expected         ai_response pass/fail\n",
      "   copy a to upper directory                          [cp a ..]             mv a ..      FAIL\n",
      " search for aba txt in files [grep aba *.txt, grep 'aba' *.txt] grep -r \"aba txt\" .      FAIL\n",
      "search for aba text in files [grep aba *.txt, grep 'aba' *.txt]     grep -r \"aba\" .      FAIL\n"
     ]
    }
   ],
   "source": [
    "results_df['ai_response'] = results_df['ai_response'].str[:40]\n",
    "\n",
    "failed_df = results_df[results_df['pass/fail'] == 'FAIL']\n",
    "if not failed_df.empty:\n",
    "    print(\"\\nFailed Tests:\")\n",
    "    print(failed_df[['query', 'expected', 'ai_response', 'pass/fail']].to_string(index=False))\n",
    "else:\n",
    "    print(\"\\nAll tests passed!\")\n",
    "\n"
   ]
  },
  {
   "cell_type": "code",
   "execution_count": null,
   "id": "aebce2a7",
   "metadata": {},
   "outputs": [],
   "source": []
  },
  {
   "cell_type": "code",
   "execution_count": null,
   "id": "2b77054b",
   "metadata": {},
   "outputs": [],
   "source": []
  }
 ],
 "metadata": {
  "kernelspec": {
   "display_name": "venv",
   "language": "python",
   "name": "python3"
  },
  "language_info": {
   "codemirror_mode": {
    "name": "ipython",
    "version": 3
   },
   "file_extension": ".py",
   "mimetype": "text/x-python",
   "name": "python",
   "nbconvert_exporter": "python",
   "pygments_lexer": "ipython3",
   "version": "3.13.5"
  }
 },
 "nbformat": 4,
 "nbformat_minor": 5
}
