{
 "cells": [
  {
   "cell_type": "code",
   "execution_count": 1,
   "id": "21e384ed",
   "metadata": {},
   "outputs": [
    {
     "data": {
      "text/plain": [
       "<module 'ash' from '/Users/cjan/golark/ash/tests/../ash/__init__.py'>"
      ]
     },
     "execution_count": 1,
     "metadata": {},
     "output_type": "execute_result"
    }
   ],
   "source": [
    "import importlib\n",
    "import sys\n",
    "import requests\n",
    "import time\n",
    "import json\n",
    "import pandas as pd\n",
    "\n",
    "sys.path.append('..')\n",
    "import ash\n",
    "\n",
    "importlib.reload(ash)"
   ]
  },
  {
   "cell_type": "code",
   "execution_count": 4,
   "id": "438ce0e7",
   "metadata": {},
   "outputs": [
    {
     "name": "stdout",
     "output_type": "stream",
     "text": [
      "🤖 Loading local model: ../models/Qwen2.5-Coder-3B-Quantized/Qwen2.5-Coder-3B-Quantized/qwen2.5-coder-3b-q4_0.gguf\n"
     ]
    },
    {
     "name": "stderr",
     "output_type": "stream",
     "text": [
      "llama_context: n_ctx_per_seq (2048) < n_ctx_train (32768) -- the full capacity of the model will not be utilized\n",
      "ggml_metal_init: skipping kernel_get_rows_bf16                     (not supported)\n",
      "ggml_metal_init: skipping kernel_set_rows_bf16                     (not supported)\n",
      "ggml_metal_init: skipping kernel_mul_mv_bf16_f32                   (not supported)\n",
      "ggml_metal_init: skipping kernel_mul_mv_bf16_f32_c4                (not supported)\n",
      "ggml_metal_init: skipping kernel_mul_mv_bf16_f32_1row              (not supported)\n",
      "ggml_metal_init: skipping kernel_mul_mv_bf16_f32_l4                (not supported)\n",
      "ggml_metal_init: skipping kernel_mul_mv_bf16_bf16                  (not supported)\n",
      "ggml_metal_init: skipping kernel_mul_mv_id_bf16_f32                (not supported)\n",
      "ggml_metal_init: skipping kernel_mul_mm_bf16_f32                   (not supported)\n",
      "ggml_metal_init: skipping kernel_mul_mm_id_bf16_f16                (not supported)\n",
      "ggml_metal_init: skipping kernel_flash_attn_ext_bf16_h64           (not supported)\n",
      "ggml_metal_init: skipping kernel_flash_attn_ext_bf16_h80           (not supported)\n",
      "ggml_metal_init: skipping kernel_flash_attn_ext_bf16_h96           (not supported)\n",
      "ggml_metal_init: skipping kernel_flash_attn_ext_bf16_h112          (not supported)\n",
      "ggml_metal_init: skipping kernel_flash_attn_ext_bf16_h128          (not supported)\n",
      "ggml_metal_init: skipping kernel_flash_attn_ext_bf16_h192          (not supported)\n",
      "ggml_metal_init: skipping kernel_flash_attn_ext_bf16_hk192_hv128   (not supported)\n",
      "ggml_metal_init: skipping kernel_flash_attn_ext_bf16_h256          (not supported)\n",
      "ggml_metal_init: skipping kernel_flash_attn_ext_bf16_hk576_hv512   (not supported)\n",
      "ggml_metal_init: skipping kernel_flash_attn_ext_vec_bf16_h64       (not supported)\n",
      "ggml_metal_init: skipping kernel_flash_attn_ext_vec_bf16_h96       (not supported)\n",
      "ggml_metal_init: skipping kernel_flash_attn_ext_vec_bf16_h128      (not supported)\n",
      "ggml_metal_init: skipping kernel_flash_attn_ext_vec_bf16_h192      (not supported)\n",
      "ggml_metal_init: skipping kernel_flash_attn_ext_vec_bf16_hk192_hv128 (not supported)\n",
      "ggml_metal_init: skipping kernel_flash_attn_ext_vec_bf16_h256      (not supported)\n",
      "ggml_metal_init: skipping kernel_flash_attn_ext_vec_bf16_hk576_hv512 (not supported)\n",
      "ggml_metal_init: skipping kernel_cpy_f32_bf16                      (not supported)\n",
      "ggml_metal_init: skipping kernel_cpy_bf16_f32                      (not supported)\n",
      "ggml_metal_init: skipping kernel_cpy_bf16_bf16                     (not supported)\n",
      "llama_kv_cache_unified: LLAMA_SET_ROWS=0, using old ggml_cpy() method for backwards compatibility\n"
     ]
    },
    {
     "name": "stdout",
     "output_type": "stream",
     "text": [
      "✅ Local model loaded successfully in 3.63 seconds!\n"
     ]
    },
    {
     "data": {
      "text/plain": [
       "<llama_cpp.llama.Llama at 0x110bd4cd0>"
      ]
     },
     "execution_count": 4,
     "metadata": {},
     "output_type": "execute_result"
    }
   ],
   "source": [
    "from ash.server import ASHModel\n",
    "m = ASHModel('../models/Qwen2.5-Coder-3B-Quantized/Qwen2.5-Coder-3B-Quantized/qwen2.5-coder-3b-q4_0.gguf')\n",
    "m.load()"
   ]
  },
  {
   "cell_type": "code",
   "execution_count": 2,
   "id": "b324e523",
   "metadata": {},
   "outputs": [
    {
     "name": "stdout",
     "output_type": "stream",
     "text": [
      "Starting AI command generation tests...\n",
      "==================================================\n",
      "Test 1: search for a file called x.txt recursively | ['find .', 'find'] | find . -name \"x.txt - 14.242s - PASS\n",
      "Test 2: count lines in file.txt | ['wc -l file.txt', 'cat file.txt | wc -l'] | wc -l <file.txt - 2.250s - FAIL\n",
      "Test 3: show first 10 lines of file.txt | ['head -n 10 file.txt', 'head file.txt'] | head -n 10 file.txt - 2.546s - PASS\n",
      "Test 4: show last 10 lines of file.txt | ['tail -n 10 file.txt', 'tail file.txt'] | tail -n 10 file.txt - 5.170s - PASS\n",
      "Test 5: show memory usage | ['free -h', 'vm_stat', 'top -l 1 | grep PhysMem', 'top'] | free -m - 1.352s - FAIL\n",
      "Test 6: show system load | ['uptime', 'w'] | uptime - 1.181s - PASS\n",
      "Test 7: show network connections | ['netstat -tuln', 'ss -tuln', 'netstat'] | netstat -ano - 1.735s - PASS\n",
      "Test 8: kill process 1234 | ['kill 1234', 'kill -9 1234', 'pkill -f pid=1234'] | kill -9 1234\n",
      "\n",
      "\n",
      "**Note: Since the context and examples provided are about Unix-like systems, I assume this for a Linux or macOS environment as well. The 'kill' command with '-9' (SIGKILL) is used to forcefully terminate processes by process ID in such environments. - 13.257s - PASS\n",
      "Test 9: kill all python processes | ['pkill python', 'pkill -f python', 'killall python', \"ps -ef | grep python | awk '{print $2}' | xargs kill -9\"] | killall -9 python - 3.206s - PASS\n",
      "Test 10: compress file.txt | ['gzip file.txt', 'bzip2 file.txt', 'tar -czvf file.tar.gz file.txt'] | gzip file.txt - 2.871s - PASS\n",
      "Test 11: extract archive.tar.gz | ['tar -xzf archive.tar.gz', 'tar -xzvf archive.tar.gz', 'tar -zxvf archive.tar.gz'] | tar xzf archive.tar.gz - 2.509s - FAIL\n",
      "Test 12: create tar archive of directory tests | ['tar -czf tests.tar.gz tests', 'tar -czvf tests.tar.gz tests', 'tar -cvzf tests.tar.gz tests'] | tar -cvf test.tar tests/ - 2.850s - FAIL\n",
      "Test 13: zip directory tests | ['zip -r tests.zip tests'] | zip -r test_directory.zip tests/ - 1.973s - FAIL\n",
      "Test 14: unzip file.zip | ['unzip file.zip'] | unzip file.zip - 2.371s - PASS\n",
      "Test 15: change password | ['passwd'] | passwd - 1.368s - PASS\n",
      "Test 16: switch to user bob | ['su bob', 'sudo su - bob'] | ```bash\n",
      "sudo su - bob\n",
      "``` - 3.019s - PASS\n",
      "Test 17: show current user | ['whoami', 'id -un'] | whoami - 1.128s - PASS\n",
      "Test 18: number of files | ['ls -l | wc -l'] | ls -1 | wc -l - 2.683s - PASS\n",
      "Test 19: change file.txt permissions to 755 | ['chmod 755 file.txt'] | chmod 755 file.txt - 3.675s - PASS\n",
      "Test 20: change owner of file.txt to bob | ['chown bob file.txt', 'sudo chown bob file.txt', 'sudo chown bob:bob file.txt'] | chown bob file.txt - 2.426s - PASS\n",
      "Test 21: fetch submodules recursively | ['git submodule update --init --recursive'] | git submodule update --recursive - 2.231s - FAIL\n",
      "Score: 71.43% (30/42)\n",
      "\n",
      "Total points earned: 30\n",
      "Total time: 74.043 seconds\n",
      "Average time per test: 3.526 seconds\n",
      "\n",
      "Timing Summary:\n",
      "Fastest test: 1.128s\n",
      "Slowest test: 14.242s\n",
      "Average test time: 3.526s\n"
     ]
    }
   ],
   "source": [
    "total_points = 0\n",
    "earned_points = 0\n",
    "results = []\n",
    "\n",
    "print(\"Starting AI command generation tests...\")\n",
    "print(\"=\" * 50)\n",
    "\n",
    "# Load test cases from JSON file\n",
    "with open('test_cases_intermediate.json', 'r') as f:\n",
    "    test_data = json.load(f)\n",
    "    test_cases = test_data['tests']\n",
    "\n",
    "# Initialize results list\n",
    "results = []\n",
    "\n",
    "# Test each case\n",
    "for i, test_case in enumerate(test_cases, 1):\n",
    "    query = test_case['query']\n",
    "    expected = test_case['expected']\n",
    "    points = test_case['points']\n",
    "    \n",
    "    total_points += points\n",
    "    \n",
    "    try:\n",
    "        # Start timer for this test case\n",
    "        start_time = time.time()\n",
    "        \n",
    "        # Call AI model\n",
    "        ai_response = ash.ZshUI.call_ollama_api(query, model=\"phi3\")\n",
    "        \n",
    "        # End timer and calculate duration\n",
    "        end_time = time.time()\n",
    "        duration = end_time - start_time\n",
    "        \n",
    "        # Simple comparison - check if expected command is in AI response\n",
    "        # This handles cases where AI might add arguments or variations\n",
    "        if isinstance(ai_response, str):\n",
    "            ai_response = ai_response.strip('\"')\n",
    "            ai_response = ai_response.strip('\\'')\n",
    "\n",
    "        # For each expected command, check if all its tokens (split by space) are present in the ai_response, regardless of order.\n",
    "        def command_tokens_match(expected_cmd, ai_cmd):\n",
    "            # Remove extra quotes and normalize whitespace\n",
    "            expected_tokens = expected_cmd.replace('\"', '').replace(\"'\", '').split()\n",
    "            ai_tokens = ai_cmd.replace('\"', '').replace(\"'\", '').split()\n",
    "            # All expected tokens must be present in ai_response tokens (order doesn't matter)\n",
    "            return all(token in ai_tokens for token in expected_tokens)\n",
    "\n",
    "        is_correct = any(command_tokens_match(str(e), ai_response) for e in expected)\n",
    "\n",
    "        results.append({\n",
    "            'query': query,\n",
    "            'expected': expected,\n",
    "            'ai_response': ai_response,\n",
    "            'pass/fail': 'PASS' if is_correct else 'FAIL',\n",
    "            'points_earned': points if is_correct else 0,\n",
    "            'duration_seconds': round(duration, 3)\n",
    "        })\n",
    "\n",
    "        print(f\"Test {i}: {query} | {expected} | {ai_response} - {duration:.3f}s - {'PASS' if is_correct else 'FAIL'}\")\n",
    "        \n",
    "    except Exception as e:\n",
    "        print(f\"✗ ERROR: {e}\")\n",
    "        \n",
    "    # Small delay to avoid overwhelming the API\n",
    "    time.sleep(0.05)\n",
    "\n",
    "# Convert results to pandas dataframe\n",
    "results_df = pd.DataFrame(results)\n",
    "\n",
    "# Sum points earned\n",
    "points_earned = results_df['points_earned'].sum()\n",
    "score_fraction = points_earned / total_points if total_points > 0 else 0\n",
    "print(f\"Score: {score_fraction:.2%} ({points_earned}/{total_points})\")\n",
    "total_duration = results_df['duration_seconds'].sum()\n",
    "\n",
    "print(f\"\\nTotal points earned: {points_earned}\")\n",
    "print(f\"Total time: {total_duration:.3f} seconds\")\n",
    "print(f\"Average time per test: {total_duration/len(results_df):.3f} seconds\")\n",
    "print(f\"\\nTiming Summary:\")\n",
    "print(f\"Fastest test: {results_df['duration_seconds'].min():.3f}s\")\n",
    "print(f\"Slowest test: {results_df['duration_seconds'].max():.3f}s\")\n",
    "print(f\"Average test time: {results_df['duration_seconds'].mean():.3f}s\") "
   ]
  },
  {
   "cell_type": "code",
   "execution_count": 29,
   "id": "b878147d",
   "metadata": {},
   "outputs": [
    {
     "name": "stdout",
     "output_type": "stream",
     "text": [
      "\n",
      "Failed Tests:\n",
      "            query                                                        expected                       ai_response pass/fail\n",
      "compress file.txt [gzip file.txt, bzip2 file.txt, tar -czvf file.tar.gz file.txt] tar -czvf archive.tar.gz file.txt      FAIL\n"
     ]
    }
   ],
   "source": [
    "results_df['ai_response'] = results_df['ai_response'].str[:40]\n",
    "\n",
    "failed_df = results_df[results_df['pass/fail'] == 'FAIL']\n",
    "if not failed_df.empty:\n",
    "    print(\"\\nFailed Tests:\")\n",
    "    print(failed_df[['query', 'expected', 'ai_response', 'pass/fail']].to_string(index=False))\n",
    "else:\n",
    "    print(\"\\nAll tests passed!\")\n",
    "\n"
   ]
  },
  {
   "cell_type": "code",
   "execution_count": null,
   "id": "aebce2a7",
   "metadata": {},
   "outputs": [],
   "source": []
  },
  {
   "cell_type": "code",
   "execution_count": null,
   "id": "2b77054b",
   "metadata": {},
   "outputs": [],
   "source": []
  }
 ],
 "metadata": {
  "kernelspec": {
   "display_name": "venv",
   "language": "python",
   "name": "python3"
  },
  "language_info": {
   "codemirror_mode": {
    "name": "ipython",
    "version": 3
   },
   "file_extension": ".py",
   "mimetype": "text/x-python",
   "name": "python",
   "nbconvert_exporter": "python",
   "pygments_lexer": "ipython3",
   "version": "3.13.5"
  }
 },
 "nbformat": 4,
 "nbformat_minor": 5
}
