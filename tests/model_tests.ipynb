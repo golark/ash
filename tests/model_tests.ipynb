{
 "cells": [
  {
   "cell_type": "code",
   "execution_count": 1,
   "id": "21e384ed",
   "metadata": {},
   "outputs": [
    {
     "data": {
      "text/plain": [
       "<module 'ash' from '/Users/cjan/golark/ash-old/tests/../ash/__init__.py'>"
      ]
     },
     "execution_count": 1,
     "metadata": {},
     "output_type": "execute_result"
    }
   ],
   "source": [
    "import importlib\n",
    "import sys\n",
    "import requests\n",
    "import time\n",
    "import json\n",
    "import pandas as pd\n",
    "\n",
    "sys.path.append('..')\n",
    "import ash\n",
    "\n",
    "importlib.reload(ash)"
   ]
  },
  {
   "cell_type": "code",
   "execution_count": 4,
   "id": "438ce0e7",
   "metadata": {},
   "outputs": [
    {
     "name": "stdout",
     "output_type": "stream",
     "text": [
      "🤖 Loading local model: ../models/Qwen2.5-Coder-3B-Quantized\n"
     ]
    },
    {
     "ename": "Exception",
     "evalue": "Failed to load model: Failed to load model from file: ../models/Qwen2.5-Coder-3B-Quantized",
     "output_type": "error",
     "traceback": [
      "\u001b[31m---------------------------------------------------------------------------\u001b[39m",
      "\u001b[31mValueError\u001b[39m                                Traceback (most recent call last)",
      "\u001b[36mFile \u001b[39m\u001b[32m~/golark/ash-old/tests/../ash/server.py:91\u001b[39m, in \u001b[36mASHModel.load\u001b[39m\u001b[34m(self)\u001b[39m\n\u001b[32m     90\u001b[39m \u001b[38;5;28;01mtry\u001b[39;00m:\n\u001b[32m---> \u001b[39m\u001b[32m91\u001b[39m     \u001b[38;5;28mself\u001b[39m.model = \u001b[43mLlama\u001b[49m\u001b[43m(\u001b[49m\n\u001b[32m     92\u001b[39m \u001b[43m        \u001b[49m\u001b[43mmodel_path\u001b[49m\u001b[43m=\u001b[49m\u001b[38;5;28;43mself\u001b[39;49m\u001b[43m.\u001b[49m\u001b[43mmodel_path\u001b[49m\u001b[43m,\u001b[49m\n\u001b[32m     93\u001b[39m \u001b[43m        \u001b[49m\u001b[43mn_ctx\u001b[49m\u001b[43m=\u001b[49m\u001b[38;5;28;43mself\u001b[39;49m\u001b[43m.\u001b[49m\u001b[43mn_ctx\u001b[49m\u001b[43m,\u001b[49m\n\u001b[32m     94\u001b[39m \u001b[43m        \u001b[49m\u001b[43mn_threads\u001b[49m\u001b[43m=\u001b[49m\u001b[38;5;28;43mself\u001b[39;49m\u001b[43m.\u001b[49m\u001b[43mn_threads\u001b[49m\u001b[43m,\u001b[49m\n\u001b[32m     95\u001b[39m \u001b[43m        \u001b[49m\u001b[43mverbose\u001b[49m\u001b[43m=\u001b[49m\u001b[38;5;28;43mself\u001b[39;49m\u001b[43m.\u001b[49m\u001b[43mverbose\u001b[49m\n\u001b[32m     96\u001b[39m \u001b[43m    \u001b[49m\u001b[43m)\u001b[49m\n\u001b[32m     97\u001b[39m     end_time = time.time()\n",
      "\u001b[36mFile \u001b[39m\u001b[32m~/golark/ash-old/venv/lib/python3.13/site-packages/llama_cpp/llama.py:374\u001b[39m, in \u001b[36mLlama.__init__\u001b[39m\u001b[34m(self, model_path, n_gpu_layers, split_mode, main_gpu, tensor_split, vocab_only, use_mmap, use_mlock, kv_overrides, seed, n_ctx, n_batch, n_ubatch, n_threads, n_threads_batch, rope_scaling_type, pooling_type, rope_freq_base, rope_freq_scale, yarn_ext_factor, yarn_attn_factor, yarn_beta_fast, yarn_beta_slow, yarn_orig_ctx, logits_all, embedding, offload_kqv, flash_attn, op_offloat, swa_full, no_perf, last_n_tokens_size, lora_base, lora_scale, lora_path, numa, chat_format, chat_handler, draft_model, tokenizer, type_k, type_v, spm_infill, verbose, **kwargs)\u001b[39m\n\u001b[32m    370\u001b[39m     \u001b[38;5;28;01mraise\u001b[39;00m \u001b[38;5;167;01mValueError\u001b[39;00m(\u001b[33mf\u001b[39m\u001b[33m\"\u001b[39m\u001b[33mModel path does not exist: \u001b[39m\u001b[38;5;132;01m{\u001b[39;00mmodel_path\u001b[38;5;132;01m}\u001b[39;00m\u001b[33m\"\u001b[39m)\n\u001b[32m    372\u001b[39m \u001b[38;5;28mself\u001b[39m._model = \u001b[38;5;28mself\u001b[39m._stack.enter_context(\n\u001b[32m    373\u001b[39m     contextlib.closing(\n\u001b[32m--> \u001b[39m\u001b[32m374\u001b[39m         \u001b[43minternals\u001b[49m\u001b[43m.\u001b[49m\u001b[43mLlamaModel\u001b[49m\u001b[43m(\u001b[49m\n\u001b[32m    375\u001b[39m \u001b[43m            \u001b[49m\u001b[43mpath_model\u001b[49m\u001b[43m=\u001b[49m\u001b[38;5;28;43mself\u001b[39;49m\u001b[43m.\u001b[49m\u001b[43mmodel_path\u001b[49m\u001b[43m,\u001b[49m\n\u001b[32m    376\u001b[39m \u001b[43m            \u001b[49m\u001b[43mparams\u001b[49m\u001b[43m=\u001b[49m\u001b[38;5;28;43mself\u001b[39;49m\u001b[43m.\u001b[49m\u001b[43mmodel_params\u001b[49m\u001b[43m,\u001b[49m\n\u001b[32m    377\u001b[39m \u001b[43m            \u001b[49m\u001b[43mverbose\u001b[49m\u001b[43m=\u001b[49m\u001b[38;5;28;43mself\u001b[39;49m\u001b[43m.\u001b[49m\u001b[43mverbose\u001b[49m\u001b[43m,\u001b[49m\n\u001b[32m    378\u001b[39m \u001b[43m        \u001b[49m\u001b[43m)\u001b[49m\n\u001b[32m    379\u001b[39m     )\n\u001b[32m    380\u001b[39m )\n\u001b[32m    382\u001b[39m \u001b[38;5;66;03m# Override tokenizer\u001b[39;00m\n",
      "\u001b[36mFile \u001b[39m\u001b[32m~/golark/ash-old/venv/lib/python3.13/site-packages/llama_cpp/_internals.py:58\u001b[39m, in \u001b[36mLlamaModel.__init__\u001b[39m\u001b[34m(self, path_model, params, verbose)\u001b[39m\n\u001b[32m     57\u001b[39m \u001b[38;5;28;01mif\u001b[39;00m model \u001b[38;5;129;01mis\u001b[39;00m \u001b[38;5;28;01mNone\u001b[39;00m:\n\u001b[32m---> \u001b[39m\u001b[32m58\u001b[39m     \u001b[38;5;28;01mraise\u001b[39;00m \u001b[38;5;167;01mValueError\u001b[39;00m(\u001b[33mf\u001b[39m\u001b[33m\"\u001b[39m\u001b[33mFailed to load model from file: \u001b[39m\u001b[38;5;132;01m{\u001b[39;00mpath_model\u001b[38;5;132;01m}\u001b[39;00m\u001b[33m\"\u001b[39m)\n\u001b[32m     60\u001b[39m vocab = llama_cpp.llama_model_get_vocab(model)\n",
      "\u001b[31mValueError\u001b[39m: Failed to load model from file: ../models/Qwen2.5-Coder-3B-Quantized",
      "\nDuring handling of the above exception, another exception occurred:\n",
      "\u001b[31mException\u001b[39m                                 Traceback (most recent call last)",
      "\u001b[36mCell\u001b[39m\u001b[36m \u001b[39m\u001b[32mIn[4]\u001b[39m\u001b[32m, line 3\u001b[39m\n\u001b[32m      1\u001b[39m \u001b[38;5;28;01mfrom\u001b[39;00m\u001b[38;5;250m \u001b[39m\u001b[34;01mash\u001b[39;00m\u001b[34;01m.\u001b[39;00m\u001b[34;01mserver\u001b[39;00m\u001b[38;5;250m \u001b[39m\u001b[38;5;28;01mimport\u001b[39;00m ASHModel\n\u001b[32m      2\u001b[39m m = ASHModel(\u001b[33m'\u001b[39m\u001b[33m../models/Qwen2.5-Coder-3B-Quantized\u001b[39m\u001b[33m'\u001b[39m)\n\u001b[32m----> \u001b[39m\u001b[32m3\u001b[39m \u001b[43mm\u001b[49m\u001b[43m.\u001b[49m\u001b[43mload\u001b[49m\u001b[43m(\u001b[49m\u001b[43m)\u001b[49m\n",
      "\u001b[36mFile \u001b[39m\u001b[32m~/golark/ash-old/tests/../ash/server.py:101\u001b[39m, in \u001b[36mASHModel.load\u001b[39m\u001b[34m(self)\u001b[39m\n\u001b[32m     99\u001b[39m     \u001b[38;5;28;01mreturn\u001b[39;00m \u001b[38;5;28mself\u001b[39m.model\n\u001b[32m    100\u001b[39m \u001b[38;5;28;01mexcept\u001b[39;00m \u001b[38;5;167;01mException\u001b[39;00m \u001b[38;5;28;01mas\u001b[39;00m e:\n\u001b[32m--> \u001b[39m\u001b[32m101\u001b[39m     \u001b[38;5;28;01mraise\u001b[39;00m \u001b[38;5;167;01mException\u001b[39;00m(\u001b[33mf\u001b[39m\u001b[33m\"\u001b[39m\u001b[33mFailed to load model: \u001b[39m\u001b[38;5;132;01m{\u001b[39;00me\u001b[38;5;132;01m}\u001b[39;00m\u001b[33m\"\u001b[39m)\n",
      "\u001b[31mException\u001b[39m: Failed to load model: Failed to load model from file: ../models/Qwen2.5-Coder-3B-Quantized"
     ]
    }
   ],
   "source": [
    "from ash.server import ASHModel\n",
    "m = ASHModel('../models/Qwen2.5-Coder-3B-Quantized')\n",
    "m.load()"
   ]
  },
  {
   "cell_type": "code",
   "execution_count": 2,
   "id": "b324e523",
   "metadata": {},
   "outputs": [
    {
     "name": "stdout",
     "output_type": "stream",
     "text": [
      "Starting AI command generation tests...\n",
      "==================================================\n",
      "Test 1: search for a file called x.txt recursively | ['find .', 'find'] | find . -name \"x.txt - 14.242s - PASS\n",
      "Test 2: count lines in file.txt | ['wc -l file.txt', 'cat file.txt | wc -l'] | wc -l <file.txt - 2.250s - FAIL\n",
      "Test 3: show first 10 lines of file.txt | ['head -n 10 file.txt', 'head file.txt'] | head -n 10 file.txt - 2.546s - PASS\n",
      "Test 4: show last 10 lines of file.txt | ['tail -n 10 file.txt', 'tail file.txt'] | tail -n 10 file.txt - 5.170s - PASS\n",
      "Test 5: show memory usage | ['free -h', 'vm_stat', 'top -l 1 | grep PhysMem', 'top'] | free -m - 1.352s - FAIL\n",
      "Test 6: show system load | ['uptime', 'w'] | uptime - 1.181s - PASS\n",
      "Test 7: show network connections | ['netstat -tuln', 'ss -tuln', 'netstat'] | netstat -ano - 1.735s - PASS\n",
      "Test 8: kill process 1234 | ['kill 1234', 'kill -9 1234', 'pkill -f pid=1234'] | kill -9 1234\n",
      "\n",
      "\n",
      "**Note: Since the context and examples provided are about Unix-like systems, I assume this for a Linux or macOS environment as well. The 'kill' command with '-9' (SIGKILL) is used to forcefully terminate processes by process ID in such environments. - 13.257s - PASS\n",
      "Test 9: kill all python processes | ['pkill python', 'pkill -f python', 'killall python', \"ps -ef | grep python | awk '{print $2}' | xargs kill -9\"] | killall -9 python - 3.206s - PASS\n",
      "Test 10: compress file.txt | ['gzip file.txt', 'bzip2 file.txt', 'tar -czvf file.tar.gz file.txt'] | gzip file.txt - 2.871s - PASS\n",
      "Test 11: extract archive.tar.gz | ['tar -xzf archive.tar.gz', 'tar -xzvf archive.tar.gz', 'tar -zxvf archive.tar.gz'] | tar xzf archive.tar.gz - 2.509s - FAIL\n",
      "Test 12: create tar archive of directory tests | ['tar -czf tests.tar.gz tests', 'tar -czvf tests.tar.gz tests', 'tar -cvzf tests.tar.gz tests'] | tar -cvf test.tar tests/ - 2.850s - FAIL\n",
      "Test 13: zip directory tests | ['zip -r tests.zip tests'] | zip -r test_directory.zip tests/ - 1.973s - FAIL\n",
      "Test 14: unzip file.zip | ['unzip file.zip'] | unzip file.zip - 2.371s - PASS\n",
      "Test 15: change password | ['passwd'] | passwd - 1.368s - PASS\n",
      "Test 16: switch to user bob | ['su bob', 'sudo su - bob'] | ```bash\n",
      "sudo su - bob\n",
      "``` - 3.019s - PASS\n",
      "Test 17: show current user | ['whoami', 'id -un'] | whoami - 1.128s - PASS\n",
      "Test 18: number of files | ['ls -l | wc -l'] | ls -1 | wc -l - 2.683s - PASS\n",
      "Test 19: change file.txt permissions to 755 | ['chmod 755 file.txt'] | chmod 755 file.txt - 3.675s - PASS\n",
      "Test 20: change owner of file.txt to bob | ['chown bob file.txt', 'sudo chown bob file.txt', 'sudo chown bob:bob file.txt'] | chown bob file.txt - 2.426s - PASS\n",
      "Test 21: fetch submodules recursively | ['git submodule update --init --recursive'] | git submodule update --recursive - 2.231s - FAIL\n",
      "Score: 71.43% (30/42)\n",
      "\n",
      "Total points earned: 30\n",
      "Total time: 74.043 seconds\n",
      "Average time per test: 3.526 seconds\n",
      "\n",
      "Timing Summary:\n",
      "Fastest test: 1.128s\n",
      "Slowest test: 14.242s\n",
      "Average test time: 3.526s\n"
     ]
    }
   ],
   "source": [
    "total_points = 0\n",
    "earned_points = 0\n",
    "results = []\n",
    "\n",
    "print(\"Starting AI command generation tests...\")\n",
    "print(\"=\" * 50)\n",
    "\n",
    "# Load test cases from JSON file\n",
    "with open('test_cases_intermediate.json', 'r') as f:\n",
    "    test_data = json.load(f)\n",
    "    test_cases = test_data['tests']\n",
    "\n",
    "# Initialize results list\n",
    "results = []\n",
    "\n",
    "# Test each case\n",
    "for i, test_case in enumerate(test_cases, 1):\n",
    "    query = test_case['query']\n",
    "    expected = test_case['expected']\n",
    "    points = test_case['points']\n",
    "    \n",
    "    total_points += points\n",
    "    \n",
    "    try:\n",
    "        # Start timer for this test case\n",
    "        start_time = time.time()\n",
    "        \n",
    "        # Call AI model\n",
    "        ai_response = ash.ZshUI.call_ollama_api(query, model=\"phi3\")\n",
    "        \n",
    "        # End timer and calculate duration\n",
    "        end_time = time.time()\n",
    "        duration = end_time - start_time\n",
    "        \n",
    "        # Simple comparison - check if expected command is in AI response\n",
    "        # This handles cases where AI might add arguments or variations\n",
    "        if isinstance(ai_response, str):\n",
    "            ai_response = ai_response.strip('\"')\n",
    "            ai_response = ai_response.strip('\\'')\n",
    "\n",
    "        # For each expected command, check if all its tokens (split by space) are present in the ai_response, regardless of order.\n",
    "        def command_tokens_match(expected_cmd, ai_cmd):\n",
    "            # Remove extra quotes and normalize whitespace\n",
    "            expected_tokens = expected_cmd.replace('\"', '').replace(\"'\", '').split()\n",
    "            ai_tokens = ai_cmd.replace('\"', '').replace(\"'\", '').split()\n",
    "            # All expected tokens must be present in ai_response tokens (order doesn't matter)\n",
    "            return all(token in ai_tokens for token in expected_tokens)\n",
    "\n",
    "        is_correct = any(command_tokens_match(str(e), ai_response) for e in expected)\n",
    "\n",
    "        results.append({\n",
    "            'query': query,\n",
    "            'expected': expected,\n",
    "            'ai_response': ai_response,\n",
    "            'pass/fail': 'PASS' if is_correct else 'FAIL',\n",
    "            'points_earned': points if is_correct else 0,\n",
    "            'duration_seconds': round(duration, 3)\n",
    "        })\n",
    "\n",
    "        print(f\"Test {i}: {query} | {expected} | {ai_response} - {duration:.3f}s - {'PASS' if is_correct else 'FAIL'}\")\n",
    "        \n",
    "    except Exception as e:\n",
    "        print(f\"✗ ERROR: {e}\")\n",
    "        \n",
    "    # Small delay to avoid overwhelming the API\n",
    "    time.sleep(0.05)\n",
    "\n",
    "# Convert results to pandas dataframe\n",
    "results_df = pd.DataFrame(results)\n",
    "\n",
    "# Sum points earned\n",
    "points_earned = results_df['points_earned'].sum()\n",
    "score_fraction = points_earned / total_points if total_points > 0 else 0\n",
    "print(f\"Score: {score_fraction:.2%} ({points_earned}/{total_points})\")\n",
    "total_duration = results_df['duration_seconds'].sum()\n",
    "\n",
    "print(f\"\\nTotal points earned: {points_earned}\")\n",
    "print(f\"Total time: {total_duration:.3f} seconds\")\n",
    "print(f\"Average time per test: {total_duration/len(results_df):.3f} seconds\")\n",
    "print(f\"\\nTiming Summary:\")\n",
    "print(f\"Fastest test: {results_df['duration_seconds'].min():.3f}s\")\n",
    "print(f\"Slowest test: {results_df['duration_seconds'].max():.3f}s\")\n",
    "print(f\"Average test time: {results_df['duration_seconds'].mean():.3f}s\") "
   ]
  },
  {
   "cell_type": "code",
   "execution_count": 29,
   "id": "b878147d",
   "metadata": {},
   "outputs": [
    {
     "name": "stdout",
     "output_type": "stream",
     "text": [
      "\n",
      "Failed Tests:\n",
      "            query                                                        expected                       ai_response pass/fail\n",
      "compress file.txt [gzip file.txt, bzip2 file.txt, tar -czvf file.tar.gz file.txt] tar -czvf archive.tar.gz file.txt      FAIL\n"
     ]
    }
   ],
   "source": [
    "results_df['ai_response'] = results_df['ai_response'].str[:40]\n",
    "\n",
    "failed_df = results_df[results_df['pass/fail'] == 'FAIL']\n",
    "if not failed_df.empty:\n",
    "    print(\"\\nFailed Tests:\")\n",
    "    print(failed_df[['query', 'expected', 'ai_response', 'pass/fail']].to_string(index=False))\n",
    "else:\n",
    "    print(\"\\nAll tests passed!\")\n",
    "\n"
   ]
  },
  {
   "cell_type": "code",
   "execution_count": null,
   "id": "aebce2a7",
   "metadata": {},
   "outputs": [],
   "source": []
  },
  {
   "cell_type": "code",
   "execution_count": null,
   "id": "2b77054b",
   "metadata": {},
   "outputs": [],
   "source": []
  }
 ],
 "metadata": {
  "kernelspec": {
   "display_name": "venv",
   "language": "python",
   "name": "python3"
  },
  "language_info": {
   "codemirror_mode": {
    "name": "ipython",
    "version": 3
   },
   "file_extension": ".py",
   "mimetype": "text/x-python",
   "name": "python",
   "nbconvert_exporter": "python",
   "pygments_lexer": "ipython3",
   "version": "3.13.5"
  }
 },
 "nbformat": 4,
 "nbformat_minor": 5
}
