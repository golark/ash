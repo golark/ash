{
 "cells": [
  {
   "cell_type": "code",
   "execution_count": 1,
   "id": "fc24c948",
   "metadata": {},
   "outputs": [],
   "source": [
    "import sys\n",
    "sys.path.append('..')\n",
    "from ash import ZshUI\n",
    "\n",
    "# For testing, we want to use the classify_query static method directly.\n",
    "# We'll define a helper to call it.\n",
    "def classify_query(query):\n",
    "    return ZshUI.classify_query(query)\n"
   ]
  },
  {
   "cell_type": "code",
   "execution_count": 12,
   "id": "3bbba209",
   "metadata": {},
   "outputs": [
    {
     "name": "stdout",
     "output_type": "stream",
     "text": [
      "try ai commands\n"
     ]
    },
    {
     "data": {
      "text/plain": [
       "'shell'"
      ]
     },
     "execution_count": 12,
     "metadata": {},
     "output_type": "execute_result"
    }
   ],
   "source": [
    "# classify_query('what is the name of this folder')\n",
    "classify_query('restart service')"
   ]
  },
  {
   "cell_type": "code",
   "execution_count": null,
   "id": "f67e4b51",
   "metadata": {},
   "outputs": [],
   "source": []
  },
  {
   "cell_type": "code",
   "execution_count": null,
   "id": "de23a73e",
   "metadata": {},
   "outputs": [],
   "source": []
  }
 ],
 "metadata": {
  "kernelspec": {
   "display_name": "venv",
   "language": "python",
   "name": "python3"
  },
  "language_info": {
   "codemirror_mode": {
    "name": "ipython",
    "version": 3
   },
   "file_extension": ".py",
   "mimetype": "text/x-python",
   "name": "python",
   "nbconvert_exporter": "python",
   "pygments_lexer": "ipython3",
   "version": "3.13.5"
  }
 },
 "nbformat": 4,
 "nbformat_minor": 5
}
